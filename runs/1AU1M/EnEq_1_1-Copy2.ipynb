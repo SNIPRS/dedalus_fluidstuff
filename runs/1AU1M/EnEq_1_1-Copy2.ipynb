{
 "cells": [
  {
   "cell_type": "markdown",
   "metadata": {},
   "source": [
    "# Version at 1AU and  1 Earth Mass\n",
    "# Deposition version 2 \n",
    "# To get to converge: Load profiles from 0.2AU 1 Earth Mass Step up in increments of 0.2AU"
   ]
  },
  {
   "cell_type": "code",
   "execution_count": 1,
   "metadata": {},
   "outputs": [],
   "source": [
    "load_dep = True"
   ]
  },
  {
   "cell_type": "code",
   "execution_count": 2,
   "metadata": {},
   "outputs": [],
   "source": [
    "import numpy as np\n",
    "import os \n",
    "from dedalus import public as de\n",
    "from dedalus.extras.plot_tools import quad_mesh, pad_limits\n",
    "import matplotlib.pyplot as plt\n",
    "from scipy.special import erf \n",
    "import logging\n",
    "logger = logging.getLogger(__name__)\n",
    "\n",
    "%matplotlib inline\n",
    "\n",
    "import time\n",
    "\n",
    "# from IPython.core.display import display, HTML\n",
    "# display(HTML(\"<style>.container { width:100% !important; }</style>\"))\n",
    "\n",
    "from dedalus.extras import plot_tools "
   ]
  },
  {
   "cell_type": "code",
   "execution_count": 3,
   "metadata": {
    "scrolled": true
   },
   "outputs": [
    {
     "name": "stdout",
     "output_type": "stream",
     "text": [
      "disk temperature: 300.0\n",
      "disk density: 2.4e-09\n",
      "hill radius: 2.0000e+11\n",
      "bondi radius: 4.0000e+10\n"
     ]
    }
   ],
   "source": [
    "a_1 = 1\n",
    "AU = 1.496e13\n",
    "Mp = 1 # Earth masses\n",
    "T_disk = 300 *a_1**(-1/2)\n",
    "\n",
    "rho_disk = 2.4e-9*a_1**(-11/4)\n",
    "r_Hill = 2e11*a_1*(Mp)**(1/3)\n",
    "r_Bondi = 4e10*a_1**(1/2)*Mp\n",
    "\n",
    "print('disk temperature: ' + str(T_disk))\n",
    "print('disk density: ' + str(rho_disk))\n",
    "print('hill radius: {:.4e}'.format(r_Hill))\n",
    "print('bondi radius: {:.4e}'.format(r_Bondi))"
   ]
  },
  {
   "cell_type": "code",
   "execution_count": 4,
   "metadata": {},
   "outputs": [],
   "source": [
    "# Basis and domain\n",
    "\n",
    "resolution = 256 #500\n",
    "# normalization factors\n",
    "r_0 = 1.2e8\n",
    "T_0 = 1000\n",
    "P_0 = 1 #1e5 #1\n",
    "M_0 = 1e-12\n",
    "m_0 = 1e25\n",
    "L_0 = 3.144546892817586e+27\n",
    "Dep_0 = 5.972e27/3.154e7 \n",
    "\n",
    "# r_outer = 1.496e13/r_0\n",
    "r_outer = r_Hill /r_0 # 3.4199512e11/r_0\n",
    "r_inner = 1.2e9/r_0\n",
    "\n",
    "log_inner = np.log(r_inner) \n",
    "log_outer = np.log(r_outer)\n",
    "\n",
    "log_basis = de.Chebyshev('r', resolution, interval=(log_inner,log_outer))  \n",
    "domain = de.Domain([log_basis], np.float64)"
   ]
  },
  {
   "cell_type": "code",
   "execution_count": 5,
   "metadata": {},
   "outputs": [],
   "source": [
    "# Problem\n",
    "\n",
    "ncc_cutoff = 1e-6 #1e-2\n",
    "tolerance = 1e-6 #1e-2\n",
    "# P and T are actually log(P) and log(T)\n",
    "problem = de.NLBVP(domain,variables = ['lgP', 'lgT', 'lgM', 'lgZgr','m', 'L'], ncc_cutoff = ncc_cutoff)\n",
    "R = np.log10(np.exp(domain.grid(0))*r_0)"
   ]
  },
  {
   "cell_type": "code",
   "execution_count": 6,
   "metadata": {},
   "outputs": [],
   "source": [
    "# Parameters\n",
    "\n",
    "problem.parameters['T_0'] = T_0 \n",
    "problem.parameters['r_0'] = r_0\n",
    "problem.parameters['P_0'] = P_0 # unused\n",
    "problem.parameters['M_0'] = M_0\n",
    "problem.parameters['m_0'] = m_0\n",
    "problem.parameters['Dep_0'] = Dep_0\n",
    "problem.parameters['L_0'] = L_0\n",
    "\n",
    "lgP = domain.new_field(name='lgP')\n",
    "lgT = domain.new_field(name='lgT')\n",
    "lgZgr = domain.new_field(name='lgZgr')\n",
    "lgM = domain.new_field(name='lgM')\n",
    "m = domain.new_field(name='m')\n",
    "L = domain.new_field(name='L')\n",
    "\n",
    "r = domain.new_field(name='R')\n",
    "r['g'] = domain.grid(0)\n",
    "S = np.exp(r['g']) * r_0\n",
    "ones = np.ones(len(r['g']))\n",
    "\n",
    "pi = np.pi \n",
    "Core_mass = Mp*5.972e27\n",
    "Mc = Core_mass # 5* mass of earth (in g)\n",
    "mu = 2.34 * 1.6735575e-24 #mH multiplied by hydrogen atom mass \n",
    "kb = 1.38064852e-16 # g*cm**2/(K*s**2)\n",
    "G = 6.67408e-8 # cm**3/(g*s**2)\n",
    "dMtot = 0.2*1e-5* 5.972e27/3.154e7 # 10e-5* mass of earth, g/s #3.154e7 is conversion from yr to s\n",
    "sig = 5.670367e-5 # (cgs units) e-5 in g/(K^4s^3), Stefan Boltzmann Const (normally it's e-8 in [W⋅m−2⋅K−4])\n",
    "s0 = 1e-4 # cm\n",
    "rho_o = 3 #g cm^-3 grain internal density\n",
    "sigma_b = 5.6704e-5 # erg*cm^-2*s^-1*K^-4 Stefan Boltzmann \n",
    "rcore = 1.2e9\n",
    "grad_rad_cst = - 3*dMtot/(64*np.pi*rcore*sig)\n",
    "gm = G*Mc \n",
    "\n",
    "rhodisk = rho_disk # 7.5e-9 #g/cm**3\n",
    "Tdisk = T_disk # 370 # kelvin\n",
    "\n",
    "mdep = rho_o * 4/3 * pi *(1e4)**3\n",
    "dMdisk = 5e-9 * 5.972e27/3.154e7 \n",
    "\n",
    "\n",
    "problem.parameters['pi'] = np.pi\n",
    "problem.parameters['Mc'] = Core_mass \n",
    "problem.parameters['mu'] = 2.34 * 1.6735575e-24 #mH multiplied by hydrogen atom mass \n",
    "problem.parameters['kb'] = 1.38064852e-16 # g*cm**2/(K*s**2)\n",
    "problem.parameters['G'] = 6.67408e-8 # cm**3/(g*s**2)\n",
    "problem.parameters['dMtot'] = 0.2*1e-5*5.972e27/3.154e7 # 10e-5* mass of earth, g/s #3.154e7 is conversion from yr to s\n",
    "problem.parameters['sig'] = 5.670367e-5 # (cgs units) e-5 in g/(K^4s^3), Stefan Boltzmann Const (normally it's e-8 in [W⋅m−2⋅K−4])\n",
    "problem.parameters['s0'] = 1e-4 # cm\n",
    "problem.parameters['rho_o'] = 3 #g cm^-3 grain internal density\n",
    "problem.parameters['mdep'] = problem.parameters['rho_o']*4/3*np.pi*(1e-4)**(3)\n",
    "problem.parameters['sigma_b'] = 5.6704e-5 # erg*cm^-2*s^-1*K^-4 Stefan Boltzmann \n",
    "rcore = 1.2e9\n",
    "problem.parameters['grad_rad_cst'] = - 3*problem.parameters['dMtot']/(64*np.pi*rcore*problem.parameters['sig'])\n",
    "\n",
    "\n",
    "# problem.parameters['rhodisk'] = 4e-9 # 1e-11 #g/cm**3\n",
    "# problem.parameters['Tdisk'] = 370 # 150 # kelvin\n",
    "\n",
    "problem.parameters['rhodisk'] = rhodisk #g/cm**3\n",
    "problem.parameters['Tdisk'] = Tdisk # kelvin\n",
    "\n",
    "problem.substitutions['s'] = '(exp(lgM)*M_0*3/(4*pi*rho_o))**(1/3)' # radius\n",
    "s = (np.exp(lgM)*M_0*3/(4*pi*rho_o))**(1/3)\n"
   ]
  },
  {
   "cell_type": "markdown",
   "metadata": {},
   "source": [
    "# Deposition Type (3 versions) "
   ]
  },
  {
   "cell_type": "code",
   "execution_count": 7,
   "metadata": {},
   "outputs": [
    {
     "name": "stdout",
     "output_type": "stream",
     "text": [
      "-19.11382792451231\n"
     ]
    },
    {
     "data": {
      "text/plain": [
       "<matplotlib.legend.Legend at 0x7f1b084981c0>"
      ]
     },
     "execution_count": 7,
     "metadata": {},
     "output_type": "execute_result"
    },
    {
     "data": {
      "image/png": "[encoded data removed]",
      "text/plain": [
       "<Figure size 864x576 with 1 Axes>"
      ]
     },
     "metadata": {
      "needs_background": "light"
     },
     "output_type": "display_data"
    }
   ],
   "source": [
    "# # Mass deposition \n",
    "deposition_version = 'null'\n",
    "\n",
    "if deposition_version == 0:\n",
    "    lgdM = domain.new_field(name='lgdM')\n",
    "    lgdM['g'] = np.loadtxt('M1dep.txt')\n",
    "\n",
    "    d_r = log_basis.Differentiate(lgdM)\n",
    "    dlgdM = d_r.evaluate()\n",
    "    Mdep_fixed = lgdM['g']\n",
    "    dlgdM_fixed = dlgdM['g']\n",
    "    n_roll = Mdep_fixed.shape[0]//4\n",
    "    Mdep_fixed_rolled =np.roll(Mdep_fixed, n_roll)\n",
    "    dlgdM_fixed_rolled = np.roll(dlgdM_fixed, n_roll)\n",
    "\n",
    "    # Correct leftmost values too low from wrapping around\n",
    "    Mdep_fixed_rolled[:n_roll] = Mdep_fixed[0]\n",
    "    dlgdM_fixed_rolled[:n_roll] = 0. # Zero gradient for constant value correction\n",
    "\n",
    "    ones = lgdM['g']/lgdM['g']\n",
    "\n",
    "    constant = np.log(ones*1e-5)\n",
    "    dconstant = 0.*ones\n",
    "\n",
    "    lgdM['g'] = Mdep_fixed_rolled\n",
    "    dlgdM['g'] = dlgdM_fixed_rolled\n",
    "\n",
    "    \n",
    "\n",
    "elif deposition_version == 1:\n",
    "    lgdM = domain.new_field(name='lgdM')\n",
    "    lgdM['g'] = np.log(np.loadtxt('Deposition.txt')/Dep_0)\n",
    "    d_r = log_basis.Differentiate(lgdM)\n",
    "    dlgdM = d_r.evaluate()\n",
    "\n",
    "# elif deposition_version=='None':\n",
    "#     lgdM = domain.new_field(name='lgdM')\n",
    "#     lgdM['g'] = np.log(np.loadtxt('Deposition.txt')/Dep_0)\n",
    "#     d_r = log_basis.Differentiate(lgdM)\n",
    "#     dlgdM = d_r.evaluate()\n",
    "\n",
    "elif deposition_version=='null':\n",
    "    location = 10 # in log10 \n",
    "    smooth = 3\n",
    "    X = r['g'] - np.log(10**location/r_0) \n",
    "    lgdM = domain.new_field(name='lgdM')\n",
    "    lgdM['g'] = X*0\n",
    "    lgdM['g'] = lgdM['g']+np.log(dMdisk/Dep_0)\n",
    "    print(np.log(dMdisk/Dep_0))\n",
    "    # DEP = dMdisk + (dMtot-dMdisk)*((erf(smooth*eX['g']) + 1)/2)\n",
    "    d_r = log_basis.Differentiate(lgdM)\n",
    "    dlgdM = d_r.evaluate()\n",
    "\n",
    "else:\n",
    "    location = 10 # in log10 \n",
    "    smooth = 3\n",
    "    X = r['g'] - np.log(10**location/r_0) \n",
    "    lgdM = domain.new_field(name='lgdM')\n",
    "    lgdM['g'] = np.log((dMdisk + (dMtot-dMdisk)*((-erf(smooth*X) + 1)/2))/Dep_0)    \n",
    "    # DEP = dMdisk + (dMtot-dMdisk)*((erf(smooth*eX['g']) + 1)/2)\n",
    "    d_r = log_basis.Differentiate(lgdM)\n",
    "    dlgdM = d_r.evaluate()\n",
    "    \n",
    "problem.parameters['lgDep'] = lgdM\n",
    "problem.parameters['dlgDep'] = dlgdM\n",
    "\n",
    "lgDep = domain.new_field(name='lgDep')\n",
    "dlgDep = domain.new_field(name='dlgDep')\n",
    "lgDep['g'] = lgdM['g']\n",
    "dlgDep['g'] = dlgdM['g']\n",
    "\n",
    "plt.figure(figsize=(12,8))\n",
    "plt.plot(R, np.log10(np.exp(lgdM['g'])), label='Deposition')\n",
    "plt.plot(R, np.log10(ones*dMdisk/Dep_0), 'k--', label='dMdisk')\n",
    "plt.plot(R, np.log10(ones*dMtot/Dep_0), 'g--', label='dMtot')\n",
    "if deposition_version != 1 and deposition_version !=0:\n",
    "    plt.axvline(location, color = 'r', ls='--', label='rcrit')\n",
    "plt.legend()\n",
    "# plt.plot(R, np.log10(np.exp(dlgdM['g'])))"
   ]
  },
  {
   "cell_type": "code",
   "execution_count": 8,
   "metadata": {},
   "outputs": [],
   "source": [
    "# Opacity\n",
    "\n",
    "problem.substitutions['x'] = '2*pi*s*0.3/0.2898'\n",
    "x = 2*pi*s*0.3/0.2898\n",
    "\n",
    "# min(2,ex*T*T_0) \n",
    "k0 = -10. # -30.\n",
    "problem.parameters['k0'] = k0\n",
    "\n",
    "problem.substitutions['Qe'] = \"(0.5*(2**k0 + (x*exp(lgT)*T_0)**k0))**(1/k0)\"\n",
    "Qe = (0.5*(2**k0 + (x*np.exp(lgT)*T_0)**k0))**(1/k0)\n",
    "\n",
    "problem.substitutions['Qk_geo'] = \"Qe*3/4*exp(lgZgr)/(s*rho_o)\" \n",
    "Qk_geo = Qe*3/4*np.exp(lgZgr)/(s*rho_o)\n",
    "\n",
    "k_gas_cst = 1e-8*(problem.parameters[\"mu\"]/problem.parameters['kb'])**(2/3) # O(10^-14)\n",
    "problem.parameters['k_gas_cst'] = k_gas_cst\n",
    "\n",
    "problem.substitutions['k_gas'] = \"k_gas_cst*(exp(lgT)*T_0)**(7/3)*(exp(lgP)*P_0)**(2/3)\" \n",
    "k_gas = k_gas_cst*(np.exp(lgT)*T_0)**(7/3)*(np.exp(lgP)*P_0)**(2/3)\n",
    "\n",
    "problem.substitutions['kappa'] = \"k_gas + Qk_geo\"\n",
    "kappa = k_gas + Qk_geo "
   ]
  },
  {
   "cell_type": "code",
   "execution_count": 9,
   "metadata": {},
   "outputs": [],
   "source": [
    "# Gradient  \n",
    "\n",
    "\n",
    "# problem.substitutions['grad_rad'] = \"grad_rad_cst*kappa*exp(lgP)*P_0/(exp(lgT)*T_0)**4\"\n",
    "\n",
    "grad_ad = 0.28\n",
    "problem.parameters['grad_ad'] = grad_ad\n",
    "\n",
    "\n",
    "# problem.substitutions['grad_rad'] = '-3*kappa*exp(L)*L_0/(64*pi*sigma_b*gm) * exp(lgP)*P_0/(exp(lgT)*T_0)**4'\n",
    "problem.substitutions['grad_rad'] = '-3*kappa*L*L_0/(64*pi*sigma_b*gm) * exp(lgP)*P_0/(exp(lgT)*T_0)**4'\n",
    "grad_rad = -3*kappa*L*L_0/(64*pi*sigma_b*gm) * np.exp(lgP)*P_0/(np.exp(lgT)*T_0)**4\n",
    "\n",
    "\n",
    "# min\n",
    "k1 = -9. # -30.\n",
    "problem.parameters['k1'] = k1\n",
    "problem.substitutions['grad'] = \"(0.5*(grad_rad**k1 + (grad_ad)**k1))**(1/k1)\" \n",
    "grad = (0.5*(grad_rad**k1 + (grad_ad)**k1))**(1/k1)"
   ]
  },
  {
   "cell_type": "code",
   "execution_count": 10,
   "metadata": {},
   "outputs": [],
   "source": [
    "# Tstop: v_set = gm/r^2 * Tstop \n",
    "\n",
    "gm = problem.parameters['Mc']*problem.parameters['G']\n",
    "problem.parameters['gm'] = gm\n",
    "\n",
    "problem.substitutions['rho_g'] = '(exp(lgP)*P_0*mu)/(kb*exp(lgT)*T_0)'\n",
    "rho_g = (np.exp(lgP)*P_0*mu)/(kb*np.exp(lgT)*T_0)\n",
    "\n",
    "problem.substitutions['cg'] = 'sqrt(kb*exp(lgT)*T_0/mu)'\n",
    "cg = np.sqrt(kb*np.exp(lgT)*T_0/mu)\n",
    "\n",
    "problem.substitutions['Lg'] = '1e-9/rho_g'\n",
    "Lg = 1e-9/rho_g\n",
    "\n",
    "l = 30 #1 #15\n",
    "problem.parameters['l'] = l\n",
    "\n",
    "problem.substitutions['max'] = \"(0.5*(1 + (s/Lg)**l))**(1/l)\"\n",
    "Max = (0.5*(1 + (s/Lg)**l))**(1/l)\n",
    "\n",
    "\n",
    "problem.substitutions['Tstop'] = '(max*4*rho_o*s)/(9*cg*rho_g)'\n",
    "Tstop = (Max*4*rho_o*s)/(9*cg*rho_g)\n",
    "\n",
    "problem.substitutions['v_set'] = 'gm*Tstop/(exp(r)*r_0)**2'\n",
    "v_set = gm*Tstop/(np.exp(r)*r_0)**2"
   ]
  },
  {
   "cell_type": "code",
   "execution_count": 11,
   "metadata": {},
   "outputs": [],
   "source": [
    "# Tgrow \n",
    "\n",
    "problem.substitutions['v_bm'] = 'sqrt(16*kb*exp(lgT)*T_0/(pi*exp(lgM)*M_0))'\n",
    "v_bm = np.sqrt(16*kb*np.exp(lgT)*T_0/(np.pi*np.exp(lgM)*M_0))\n",
    "\n",
    "problem.substitutions['v_dd'] = '0.1*v_set'\n",
    "v_dd = 0.1*v_set\n",
    "\n",
    "problem.substitutions['Tgrow_inv'] = '3*exp(lgZgr)*rho_g*(v_bm+v_dd)/(rho_o*s)'\n",
    "Tgrow_inv = 3*np.exp(lgZgr)*rho_g*(v_bm+v_dd)/(rho_o*s)"
   ]
  },
  {
   "cell_type": "code",
   "execution_count": 12,
   "metadata": {},
   "outputs": [
    {
     "name": "stdout",
     "output_type": "stream",
     "text": [
      "1.2578187571270345e+26\n"
     ]
    }
   ],
   "source": [
    "# Energy equation\n",
    "\n",
    "# problem.substitutions['drho_dep'] = '-1/(4*pi*(exp(r)*r_0)**2) * dlgDep * 1e5'\n",
    "problem.substitutions['drho_dep'] = '-1/(4*pi*(exp(r)*r_0)**3) * dlgDep * Dep_0 * exp(lgDep)'\n",
    "drho_dep = -1/(4*pi*(np.exp(r)*r_0)**3) * dlgDep * Dep_0 * np.exp(lgDep)\n",
    "\n",
    "Trelax = 1e30\n",
    "problem.parameters['Trelax'] = Trelax\n",
    "\n",
    "Lcore = problem.parameters['gm']*problem.parameters['dMtot']/(r_inner*r_0)\n",
    "problem.parameters['Lcore'] = Lcore\n",
    "print(problem.parameters['Lcore'])"
   ]
  },
  {
   "cell_type": "code",
   "execution_count": 13,
   "metadata": {},
   "outputs": [],
   "source": [
    "# New equations\n",
    "\n",
    "problem.add_equation('lgZgr = log(exp(lgDep)*Dep_0/(4*pi*gm*Tstop*rho_g))')\n",
    "# problem.add_equation('lgZgr = log(dMdep/(4*pi*gm*Tstop*rho_g))')\n",
    "problem.add_equation('dr(lgM) = -Tgrow_inv*(exp(r)*r_0)**3/(gm*Tstop) + dlgDep*(mdep-exp(lgM)*M_0)/(exp(lgM)*M_0)')"
   ]
  },
  {
   "cell_type": "code",
   "execution_count": 14,
   "metadata": {},
   "outputs": [],
   "source": [
    "# Normalized equations\n",
    "\n",
    "# problem.parameters['eq1cst'] = -1*problem.parameters['G']*problem.parameters['Mc']*problem.parameters['mu']/(T_0*r_0*problem.parameters['kb'])\n",
    "problem.add_equation('dr(m) = 4*pi*(exp(r)*r_0)**3 * rho_g/m_0')\n",
    "problem.add_equation('exp(r) * dr(lgP) = -G*(Mc+m*m_0)*mu/(T_0*r_0*kb*exp(lgT))')\n",
    "problem.add_equation('dr(lgT) = dr(lgP)*grad')\n",
    "\n",
    "# problem.add_equation('dr(L) = 4*pi*(exp(r)*r_0)* (G*(Mc+m*m_0)*drho_dep/(exp(r)*r_0))')\n",
    "# problem.add_equation('dr(L)*L_0 = 4*pi*(exp(r)*r_0)**3 * (G*(Mc+m*m_0)*drho_dep/(exp(r)*r_0) + rho_g*cg*(exp(lgT)*T_0 - Tdisk)/Trelax )')\n",
    "problem.add_equation('dr(L)*L_0 = (4*pi*(exp(r)*r_0)**3 * (G*(Mc+m*m_0)*drho_dep/(exp(r)*r_0) + rho_g*cg*(exp(lgT)*T_0 - Tdisk)/Trelax ))')\n"
   ]
  },
  {
   "cell_type": "code",
   "execution_count": 15,
   "metadata": {},
   "outputs": [],
   "source": [
    "# Boundary Equations\n",
    "\n",
    "\n",
    "problem.add_bc(\"right(lgT) = log(Tdisk/T_0)\") # disk temp in kelvins\n",
    "problem.add_bc(\"right(lgP) = log(rhodisk*kb*Tdisk/mu/P_0)\") # gas law\n",
    "problem.add_bc(\"right(lgZgr) = log(1e-3)\")\n",
    "problem.add_bc(\"left(m) = 0\")\n",
    "problem.add_bc(\"left(L) = Lcore/L_0\")"
   ]
  },
  {
   "cell_type": "code",
   "execution_count": 16,
   "metadata": {},
   "outputs": [
    {
     "name": "stdout",
     "output_type": "stream",
     "text": [
      "2020-10-01 06:04:20,707 pencil 0/1 INFO :: Building pencil matrix 1/1 (~100%) Elapsed: 0s, Remaining: 0s, Rate: 4.6e+01/s\n"
     ]
    }
   ],
   "source": [
    "# solver = problem.build_solver(de.timesteppers.RK443)\n",
    "solver = problem.build_solver()"
   ]
  },
  {
   "cell_type": "code",
   "execution_count": 17,
   "metadata": {},
   "outputs": [
    {
     "data": {
      "text/plain": [
       "Text(0.5, 1.0, 'm')"
      ]
     },
     "execution_count": 17,
     "metadata": {},
     "output_type": "execute_result"
    },
    {
     "data": {
      "image/png": "[encoded data removed]",
      "text/plain": [
       "<Figure size 864x576 with 5 Axes>"
      ]
     },
     "metadata": {
      "needs_background": "light"
     },
     "output_type": "display_data"
    }
   ],
   "source": [
    "# initial conditions and referencing local grid state fields\n",
    "\n",
    "lgr = domain.grid(0)\n",
    "Rscale = np.log10(np.exp(domain.grid(0))*r_0)\n",
    "lgT1 = solver.state['lgT']\n",
    "lgP1 = solver.state['lgP']\n",
    "lgZgr1 = solver.state['lgZgr']\n",
    "lgM1 = solver.state['lgM']\n",
    "\n",
    "L1 = solver.state['L']\n",
    "m1= solver.state['m']\n",
    "\n",
    "# Load from constant Mass and Zgr version\n",
    "\n",
    "lgP_initial = np.loadtxt(\"Pressure.txt\")\n",
    "lgT_initial = np.loadtxt(\"Temperature.txt\")\n",
    "Zi = np.loadtxt('Zgr.txt')\n",
    "Mi = np.loadtxt('M.txt')\n",
    "\n",
    "lgP1['g'] = lgP_initial\n",
    "lgT1['g'] = lgT_initial\n",
    "ones = lgT1['g']/lgT1['g']\n",
    "\n",
    "L1['g'] = ones*problem.parameters['Lcore']/L_0\n",
    "\n",
    "lgZgr1['g'] = Zi \n",
    "\n",
    "lgM1['g'] = Mi\n",
    "m1['g'] = ones*0\n",
    "\n",
    "\n",
    "if load_dep: \n",
    "    lgP1['g'] = np.loadtxt(\"Pressure_dep.txt\")\n",
    "    lgT1['g'] = np.loadtxt(\"Temperature_dep.txt\")\n",
    "    L1['g'] = np.loadtxt('L_dep.txt')\n",
    "    lgZgr1['g'] = np.loadtxt('Zgr_dep.txt') \n",
    "    lgM1['g'] = np.loadtxt('M_dep.txt')\n",
    "    m1['g'] = np.loadtxt('m_dep.txt')\n",
    "    \n",
    "    \n",
    "plt.figure(figsize=(12,8))\n",
    "plt.subplot(1,5,1)\n",
    "plt.plot(Rscale,lgT1['g'])\n",
    "plt.title(\"lgT\")\n",
    "plt.subplot(1,5,2)\n",
    "plt.plot(Rscale, lgP1['g'])\n",
    "plt.title(\"lgP\")\n",
    "plt.subplot(1,5,3)\n",
    "plt.plot(Rscale, np.log10(np.exp(lgZgr1['g'])))\n",
    "plt.title(\"lgZgr\")\n",
    "plt.subplot(1,5,4)\n",
    "plt.plot(Rscale, lgM1['g'])\n",
    "plt.title(\"lgM\")\n",
    "plt.subplot(1,5,5)\n",
    "plt.plot(Rscale, m1['g'])\n",
    "plt.title(\"m\")"
   ]
  },
  {
   "cell_type": "code",
   "execution_count": 18,
   "metadata": {},
   "outputs": [],
   "source": [
    "\n",
    "lgT_list = [np.copy(lgT1['g'])]\n",
    "lgP_list = [np.copy(lgP1['g'])]\n",
    "lgZgr_list = [np.copy(lgZgr1['g'])]\n",
    "lgM_list = [np.copy(lgM1['g'])]\n",
    "m_list = [np.copy(m1['g'])]\n",
    "L_list = [np.copy(L1['g'])]"
   ]
  },
  {
   "cell_type": "code",
   "execution_count": 19,
   "metadata": {
    "scrolled": false
   },
   "outputs": [
    {
     "name": "stderr",
     "output_type": "stream",
     "text": [
      "/home/sniprs/miniconda3/envs/dedalus/lib/python3.8/site-packages/dedalus/core/operators.py:1026: RuntimeWarning: invalid value encountered in power\n",
      "  np.power(arg0.data, arg1.value, out.data)\n"
     ]
    },
    {
     "name": "stdout",
     "output_type": "stream",
     "text": [
      "2020-10-01 06:04:24,247 pencil 0/1 INFO :: Building pencil matrix 1/1 (~100%) Elapsed: 0s, Remaining: 0s, Rate: 3.6e+00/s\n",
      "2020-10-01 06:04:25,392 __main__ 0/1 INFO :: Perturbation norm: nan\n",
      "2020-10-01 06:04:25,393 __main__ 0/1 INFO :: lgT iterate: nan\n",
      "2020-10-01 06:04:25,394 __main__ 0/1 INFO :: lgP iterate: nan\n",
      "2020-10-01 06:04:25,394 __main__ 0/1 INFO :: lgM iterate: nan\n",
      "2020-10-01 06:04:25,395 __main__ 0/1 INFO :: lgZgr iterate: nan\n",
      "2020-10-01 06:04:25,396 __main__ 0/1 INFO :: m iterate: nan\n",
      "2020-10-01 06:04:25,397 __main__ 0/1 INFO :: L iterate: nan\n"
     ]
    },
    {
     "data": {
      "image/png": "[encoded data removed]",
      "text/plain": [
       "<Figure size 576x432 with 5 Axes>"
      ]
     },
     "metadata": {
      "needs_background": "light"
     },
     "output_type": "display_data"
    }
   ],
   "source": [
    "# Iterations\n",
    "\n",
    "i = 0\n",
    "\n",
    "pert = solver.perturbations.data\n",
    "pert.fill(1+tolerance)\n",
    "start_time = time.time()\n",
    "while np.sum(np.abs(pert)) > tolerance:\n",
    "    solver.newton_iteration()\n",
    "    lgT_list.append(np.copy(lgT1['g'])) # save\n",
    "    lgP_list.append(np.copy(lgP1['g']))\n",
    "    lgZgr_list.append(np.copy(lgZgr1['g'])) \n",
    "    lgM_list.append(np.copy(lgM1['g'])) \n",
    "    L_list.append(np.copy(L1['g']))\n",
    "    m_list.append(np.copy(m['g']))\n",
    "    logger.info('Perturbation norm: {}'.format(np.sum(np.abs(pert))))\n",
    "    logger.info('lgT iterate: {}'.format(lgT1['g'][0]))\n",
    "    logger.info('lgP iterate: {}'.format(lgP1['g'][0]))\n",
    "    logger.info('lgM iterate: {}'.format(lgM1['g'][0]))\n",
    "    logger.info('lgZgr iterate: {}'.format(lgZgr1['g'][0]))\n",
    "    logger.info('m iterate: {}'.format(m1['g'][0]))\n",
    "    logger.info('L iterate: {}'.format(L1['g'][0]))\n",
    "    \n",
    "    plt.figure(figsize=(8,6))\n",
    "    plt.subplot(1,5,1)\n",
    "    plt.plot(domain.grid(0),lgT1['g'])\n",
    "    plt.title(\"lgT\")\n",
    "    plt.subplot(1,5,2)\n",
    "    plt.plot(domain.grid(0), lgP1['g'])\n",
    "    plt.title(\"lgP\")\n",
    "    plt.subplot(1,5,3)\n",
    "    plt.plot(domain.grid(0),lgZgr1['g'])\n",
    "    plt.title(\"lgZgr\")\n",
    "    plt.subplot(1,5,4)\n",
    "    plt.plot(domain.grid(0), lgM1['g'])\n",
    "    plt.title(\"lgM\")\n",
    "    plt.subplot(1,5,5)\n",
    "    plt.plot(domain.grid(0), L1['g'])\n",
    "    plt.title(\"L\")\n",
    "    plt.show()\n",
    "    \n",
    "end_time = time.time()"
   ]
  },
  {
   "cell_type": "code",
   "execution_count": 20,
   "metadata": {
    "scrolled": false
   },
   "outputs": [
    {
     "data": {
      "image/png": "[encoded data removed]",
      "text/plain": [
       "<Figure size 1152x432 with 5 Axes>"
      ]
     },
     "metadata": {
      "needs_background": "light"
     },
     "output_type": "display_data"
    },
    {
     "data": {
      "image/png": "[encoded data removed]",
      "text/plain": [
       "<Figure size 1152x432 with 5 Axes>"
      ]
     },
     "metadata": {
      "needs_background": "light"
     },
     "output_type": "display_data"
    }
   ],
   "source": [
    "lower = 0 \n",
    "if len(lgT_list) > 20:\n",
    "    lower = len(lgT_list) - 20\n",
    "\n",
    "R = np.log10(np.exp(domain.grid(0))*r_0)\n",
    "\n",
    "for i in range(lower,len(lgT_list)):\n",
    "        plt.figure(figsize=(16,6))\n",
    "        \n",
    "        plt.subplot(1,5,1)\n",
    "        plt.plot(R,lgT_list[i])\n",
    "        plt.title(\"lgT iteration: \" + str(i))\n",
    "        \n",
    "        plt.subplot(1,5,2)\n",
    "        plt.plot(R, lgP_list[i])\n",
    "        plt.title(\"lgP iteration: \" + str(i))\n",
    "        \n",
    "        plt.subplot(1,5,3)\n",
    "        plt.plot(R, np.log10(np.exp(lgZgr_list[i])))\n",
    "        plt.title(\"Zgr iteration: \" + str(i))\n",
    "        \n",
    "        # Grain size \n",
    "        plt.subplot(1,5,4)\n",
    "        plt.plot(R, np.log10((np.exp(lgM_list[i])*M_0/(4*np.pi))**(1/3)))\n",
    "        plt.title(\"a iteration: \" + str(i))\n",
    "        \n",
    "#         plt.subplot(1,5,5)\n",
    "#         plt.plot(R, m_list[i])\n",
    "#         plt.title(\"m iteration: \" + str(i))\n",
    "\n",
    "        plt.subplot(1,5,5)\n",
    "        plt.plot(R, L_list[i])\n",
    "        plt.title(\"L iteration: \" + str(i))\n",
    "        \n",
    "        "
   ]
  },
  {
   "cell_type": "code",
   "execution_count": 21,
   "metadata": {},
   "outputs": [],
   "source": [
    "lgP['g'] = lgP_list[-1]\n",
    "lgT['g'] = lgT_list[-1]\n",
    "lgZgr['g'] = lgZgr_list[-1]\n",
    "lgM['g'] = lgM_list[-1]\n",
    "m['g'] = m_list[-1]\n",
    "L['g'] = L_list[-1]"
   ]
  },
  {
   "cell_type": "code",
   "execution_count": 22,
   "metadata": {},
   "outputs": [
    {
     "data": {
      "text/plain": [
       "Text(0.5, 1.0, 'Grad')"
      ]
     },
     "execution_count": 22,
     "metadata": {},
     "output_type": "execute_result"
    },
    {
     "data": {
      "image/png": "[encoded data removed]",
      "text/plain": [
       "<Figure size 576x432 with 1 Axes>"
      ]
     },
     "metadata": {
      "needs_background": "light"
     },
     "output_type": "display_data"
    }
   ],
   "source": [
    "# Grad\n",
    "\n",
    "Grad = grad.evaluate()\n",
    "Grad.require_grid_space()\n",
    "Grad_rad = grad_rad.evaluate()\n",
    "Grad_rad.require_grid_space()\n",
    "\n",
    "RCB = 0\n",
    "epsilon = 0.0001\n",
    "for i in range(0, len(Grad['g'] - 1)):\n",
    "    if np.abs(Grad['g'][i] - Grad['g'][0]) >  epsilon:\n",
    "        RCB = i\n",
    "        break\n",
    "\n",
    "plt.figure(figsize=(8,6))\n",
    "plt.plot(R, Grad['g'], label='Grad')\n",
    "plt.plot(R, grad_ad*np.ones(len(R)))\n",
    "plt.plot(R, Grad_rad['g'])\n",
    "plt.plot(R[RCB], Grad['g'][RCB], 'ro', label = 'RCB')\n",
    "plt.ylim(0, 0.5)\n",
    "plt.legend()\n",
    "\n",
    "plt.title('Grad')"
   ]
  },
  {
   "cell_type": "code",
   "execution_count": 23,
   "metadata": {},
   "outputs": [
    {
     "data": {
      "text/plain": [
       "Text(0.5, 1.0, 'Tstop')"
      ]
     },
     "execution_count": 23,
     "metadata": {},
     "output_type": "execute_result"
    },
    {
     "data": {
      "image/png": "[encoded data removed]",
      "text/plain": [
       "<Figure size 432x288 with 1 Axes>"
      ]
     },
     "metadata": {
      "needs_background": "light"
     },
     "output_type": "display_data"
    }
   ],
   "source": [
    "TStop = Tstop.evaluate()\n",
    "TStop.require_grid_space()\n",
    "plt.plot(R, np.log10(TStop['g']))\n",
    "plt.title('Tstop')"
   ]
  },
  {
   "cell_type": "code",
   "execution_count": 24,
   "metadata": {},
   "outputs": [
    {
     "data": {
      "text/plain": [
       "Text(0.5, 1.0, 'Tgrow')"
      ]
     },
     "execution_count": 24,
     "metadata": {},
     "output_type": "execute_result"
    },
    {
     "data": {
      "image/png": "[encoded data removed]",
      "text/plain": [
       "<Figure size 432x288 with 1 Axes>"
      ]
     },
     "metadata": {
      "needs_background": "light"
     },
     "output_type": "display_data"
    }
   ],
   "source": [
    "Tgrow = 1/Tgrow_inv\n",
    "TGrow = Tgrow.evaluate()\n",
    "TGrow.require_grid_space()\n",
    "plt.plot(R, np.log10(TGrow['g']))\n",
    "plt.title('Tgrow')"
   ]
  },
  {
   "cell_type": "markdown",
   "metadata": {},
   "source": [
    "# New analysis section (Jan 30)\n"
   ]
  },
  {
   "cell_type": "code",
   "execution_count": 25,
   "metadata": {},
   "outputs": [
    {
     "name": "stderr",
     "output_type": "stream",
     "text": [
      "<ipython-input-25-c4aacdbbc510>:22: UserWarning: Data has no positive values, and therefore cannot be log-scaled.\n",
      "  plt.yscale('log')\n"
     ]
    },
    {
     "name": "stdout",
     "output_type": "stream",
     "text": [
      "Trcb_set = 0.0 yr\n",
      "Tbondi_set = nan yr\n",
      "Tout_set = nan yr\n"
     ]
    },
    {
     "data": {
      "image/png": "[encoded data removed]",
      "text/plain": [
       "<Figure size 576x432 with 1 Axes>"
      ]
     },
     "metadata": {
      "needs_background": "light"
     },
     "output_type": "display_data"
    }
   ],
   "source": [
    "Bondi = r_Bondi # cm\n",
    "# Bondi = 3.7e11 # cm\n",
    "# Tsettl = r/vsettl \n",
    "def find_nearest_index(A, x):\n",
    "    i = (np.abs(A - x)).argmin()\n",
    "    return i\n",
    "\n",
    "bondi = find_nearest_index(R, np.log10(Bondi))\n",
    "Vsettl = v_set.evaluate()\n",
    "Vsettl.require_grid_space()\n",
    "Vset = Vsettl['g']\n",
    "\n",
    "Tsettl = np.ones(len(R))\n",
    "\n",
    "for i in range(0, len(R)):\n",
    "    Tsettl[i] = np.trapz(1/Vset[0:i], S[0:i]) # Ormel integral definition \n",
    "    \n",
    "# Tsettl = np.exp(r['g'])*r_0/Vset \n",
    "    \n",
    "plt.figure(figsize=(8,6))\n",
    "plt.plot(R, Tsettl)\n",
    "plt.yscale('log')\n",
    "\n",
    "\n",
    "Trcb_set = Tsettl[RCB]\n",
    "Tbondi_set = Tsettl[bondi]\n",
    "Tout_set = Tsettl[-1]\n",
    "\n",
    "yr = 3.154e+7\n",
    "\n",
    "print(\"Trcb_set = {} yr\".format(Trcb_set/yr))\n",
    "print(\"Tbondi_set = {} yr\".format(Tbondi_set/yr))\n",
    "print(\"Tout_set = {} yr\".format(Tout_set/yr))\n",
    "\n"
   ]
  },
  {
   "cell_type": "code",
   "execution_count": 26,
   "metadata": {},
   "outputs": [
    {
     "name": "stderr",
     "output_type": "stream",
     "text": [
      "<ipython-input-26-ff6f72b744b6>:24: UserWarning: Data has no positive values, and therefore cannot be log-scaled.\n",
      "  plt.yscale('log')\n"
     ]
    },
    {
     "name": "stdout",
     "output_type": "stream",
     "text": [
      "Trcb_set = 0.0 yr\n",
      "Tbondi_set = nan yr\n",
      "Tout_set = nan yr\n"
     ]
    },
    {
     "data": {
      "image/png": "[encoded data removed]",
      "text/plain": [
       "<Figure size 576x432 with 1 Axes>"
      ]
     },
     "metadata": {
      "needs_background": "light"
     },
     "output_type": "display_data"
    }
   ],
   "source": [
    "Bondi = 3.7e11 # cm\n",
    "Bondi = 8.9442713e10\n",
    "# Tsettl = r/vsettl \n",
    "def find_nearest_index(A, x):\n",
    "    i = (np.abs(A - x)).argmin()\n",
    "    return i\n",
    "\n",
    "bondi = find_nearest_index(R, np.log10(Bondi))\n",
    "Vsettl = v_set.evaluate()\n",
    "Vsettl.require_grid_space()\n",
    "Vset = Vsettl['g']\n",
    "\n",
    "\n",
    "Tsettl = np.ones(len(R))\n",
    "\n",
    "\n",
    "for i in range(0, len(R)):\n",
    "    Tsettl[i] = np.trapz(1/Vset[0:i], S[0:i]) # Ormel integral definition \n",
    "    \n",
    "# Tsettl = np.exp(r['g'])*r_0/Vset \n",
    "    \n",
    "plt.figure(figsize=(8,6))\n",
    "plt.plot(R, Tsettl)\n",
    "plt.yscale('log')\n",
    "plt.title('Tsettl')\n",
    "\n",
    "Trcb_set = Tsettl[RCB]\n",
    "Tbondi_set = Tsettl[bondi]\n",
    "Tout_set = Tsettl[-1]\n",
    "\n",
    "yr = 3.154e+7\n",
    "\n",
    "print(\"Trcb_set = {} yr\".format(Trcb_set/yr))\n",
    "print(\"Tbondi_set = {} yr\".format(Tbondi_set/yr))\n",
    "print(\"Tout_set = {} yr\".format(Tout_set/yr))"
   ]
  },
  {
   "cell_type": "code",
   "execution_count": 27,
   "metadata": {},
   "outputs": [
    {
     "data": {
      "text/plain": [
       "<matplotlib.legend.Legend at 0x7f1b00ea0df0>"
      ]
     },
     "execution_count": 27,
     "metadata": {},
     "output_type": "execute_result"
    },
    {
     "data": {
      "image/png": "[encoded data removed]",
      "text/plain": [
       "<Figure size 864x576 with 1 Axes>"
      ]
     },
     "metadata": {
      "needs_background": "light"
     },
     "output_type": "display_data"
    }
   ],
   "source": [
    "# Ormel profile\n",
    "size = s.evaluate()\n",
    "size.require_grid_space()\n",
    "kappa_gr = Qk_geo.evaluate()\n",
    "kappa_gr.require_grid_space()\n",
    "\n",
    "\n",
    "plt.figure(figsize=(12,8))\n",
    "plt.plot(R, np.exp(lgZgr['g']), 'k-', label='Zgr')\n",
    "plt.plot(R, kappa_gr['g'], 'm-', label='kappa_gr')\n",
    "plt.plot(R, size['g'], 'b-', label='s')\n",
    "plt.yscale('log')\n",
    "plt.ylim((1e-9, 1e2))\n",
    "plt.legend()"
   ]
  },
  {
   "cell_type": "code",
   "execution_count": 28,
   "metadata": {},
   "outputs": [
    {
     "data": {
      "text/plain": [
       "<matplotlib.legend.Legend at 0x7f1b0159c370>"
      ]
     },
     "execution_count": 28,
     "metadata": {},
     "output_type": "execute_result"
    },
    {
     "data": {
      "image/png": "[encoded data removed]",
      "text/plain": [
       "<Figure size 864x576 with 1 Axes>"
      ]
     },
     "metadata": {
      "needs_background": "light"
     },
     "output_type": "display_data"
    }
   ],
   "source": [
    "rho_gas = rho_g.evaluate()\n",
    "rho_gas.require_grid_space()\n",
    "\n",
    "lgt = lgT_list[-1]\n",
    "\n",
    "\n",
    "plt.figure(figsize=(12,8)) # I don't know Ormel's normalization values \n",
    "plt.plot(R, (rho_gas['g'])**(1/3), 'k-', label='rho_gas')\n",
    "plt.plot(R, np.exp(lgt)*T_0, 'r-', label='Temperature') \n",
    "plt.plot(R, np.exp(lgt)*T_0 *rho_gas['g'] , 'r--', label='Press=Rho*T')\n",
    "plt.yscale('log')\n",
    "plt.legend()"
   ]
  },
  {
   "cell_type": "code",
   "execution_count": 29,
   "metadata": {},
   "outputs": [
    {
     "data": {
      "text/plain": [
       "<matplotlib.legend.Legend at 0x7f1b00efacd0>"
      ]
     },
     "execution_count": 29,
     "metadata": {},
     "output_type": "execute_result"
    },
    {
     "data": {
      "image/png": "[encoded data removed]",
      "text/plain": [
       "<Figure size 864x576 with 1 Axes>"
      ]
     },
     "metadata": {
      "needs_background": "light"
     },
     "output_type": "display_data"
    }
   ],
   "source": [
    "plt.figure(figsize=(12,8)) # I don't know Ormel's normalization values \n",
    "plt.plot(R, (rho_gas['g']/rhodisk)**(1/3) , 'k-', label='rho_gas')\n",
    "plt.plot(R, np.exp(lgt)*T_0 / Tdisk, 'r-', label='Temperature') \n",
    "plt.yscale('log')\n",
    "plt.legend()"
   ]
  },
  {
   "cell_type": "code",
   "execution_count": 30,
   "metadata": {
    "scrolled": true
   },
   "outputs": [
    {
     "name": "stdout",
     "output_type": "stream",
     "text": [
      "Envelope mass (g): nan\n"
     ]
    },
    {
     "data": {
      "image/png": "[encoded data removed]",
      "text/plain": [
       "<Figure size 432x288 with 1 Axes>"
      ]
     },
     "metadata": {
      "needs_background": "light"
     },
     "output_type": "display_data"
    }
   ],
   "source": [
    "Env = np.zeros(len(R))\n",
    "\n",
    "En = 4*np.pi*(np.exp(r)*r_0)**2 *rho_g \n",
    "\n",
    "m = En.evaluate()\n",
    "m.require_grid_space()\n",
    "\n",
    "for i in range(0, len(R)):\n",
    "    Env[i] = np.trapz(m['g'][0:i], S[0:i]) \n",
    "    \n",
    "    \n",
    "plt.plot(R, Env)\n",
    "env_mass = Env[-1]\n",
    "print(\"Envelope mass (g): {:e}\".format(env_mass))"
   ]
  },
  {
   "cell_type": "code",
   "execution_count": 31,
   "metadata": {},
   "outputs": [
    {
     "data": {
      "text/plain": [
       "<matplotlib.legend.Legend at 0x7f1b00fb69d0>"
      ]
     },
     "execution_count": 31,
     "metadata": {},
     "output_type": "execute_result"
    },
    {
     "data": {
      "image/png": "[encoded data removed]",
      "text/plain": [
       "<Figure size 576x432 with 1 Axes>"
      ]
     },
     "metadata": {
      "needs_background": "light"
     },
     "output_type": "display_data"
    }
   ],
   "source": [
    "dlgZgr = lgZgr.differentiate('r')\n",
    "dlgP = lgP.differentiate('r')\n",
    "\n",
    "# Multiply dlgZgr by Zgr to get dZgr (as a proxy for dmu = d(1+Zgr) = dZgr)\n",
    "grad_mu= dlgZgr['g']/ dlgP['g'] \n",
    "grad_mu *= np.exp(lgZgr['g'])\n",
    "\n",
    "#grad_mu.evaluate()\n",
    "#grad_mu.require_grid_space()\n",
    "\n",
    "plt.figure(figsize=(8,6))\n",
    "plt.plot(R, Grad['g'], label='Grad')\n",
    "#plt.plot(R, dlgZgr['g'] / dlgP['g'], label='Grad_mu')\n",
    "plt.plot(R, grad_mu, label='Grad_mu')\n",
    "plt.ylim(-0.5, 4)\n",
    "plt.legend()"
   ]
  },
  {
   "cell_type": "code",
   "execution_count": 32,
   "metadata": {},
   "outputs": [
    {
     "data": {
      "text/plain": [
       "(-4.0, 4.0)"
      ]
     },
     "execution_count": 32,
     "metadata": {},
     "output_type": "execute_result"
    },
    {
     "data": {
      "image/png": "[encoded data removed]",
      "text/plain": [
       "<Figure size 864x576 with 2 Axes>"
      ]
     },
     "metadata": {
      "needs_background": "light"
     },
     "output_type": "display_data"
    }
   ],
   "source": [
    "lgMu = np.log(1+np.exp(lgZgr))\n",
    "dlgMu = log_basis.Differentiate(lgMu)\n",
    "dlgP = log_basis.Differentiate(np.log(np.exp(lgP) *P_0))\n",
    "\n",
    "grad_mu = dlgMu/dlgP\n",
    "\n",
    "# grad_mu1 = np.diff( np.log(1+np.exp(lgZgr['g'])))/ np.diff(np.log(np.exp(lgP['g']) *P_0)) \n",
    "Grad_mu = grad_mu.evaluate()\n",
    "Grad_mu.require_grid_space()\n",
    "\n",
    "grad_diff = grad_rad - grad_mu - (-grad_ad) \n",
    "Grad_diff = grad_diff.evaluate() \n",
    "Grad_diff.require_grid_space() \n",
    "\n",
    "\n",
    "plt.figure(figsize = (12,8))\n",
    "plt.subplot(1,2,1)\n",
    "# plt.plot(R, Grad_diff['g'])\n",
    "# plt.plot(R,Grad_mu['g'])\n",
    "plt.plot(R, -Grad_rad['g'], label = 'Grad_rad')\n",
    "plt.plot(R, grad_ad*np.ones(len(R)), label = 'Grad_ad')\n",
    "plt.plot(R, Grad_mu['g'], label = 'Grad_mu')\n",
    "plt.plot(R, Grad_diff['g'], label = 'Grad difference')\n",
    "plt.plot(R, np.zeros(len(R)), 'k-') \n",
    "plt.legend()\n",
    "plt.ylim((-4, 4))\n",
    "plt.subplot(1,2,2)\n",
    "plt.plot(R, Grad_mu['g'], label = 'Grad_mu')\n",
    "# plt.plot(R[1:], grad_mu1)\n",
    "plt.legend()\n",
    "plt.ylim((-4, 4))"
   ]
  },
  {
   "cell_type": "code",
   "execution_count": 33,
   "metadata": {},
   "outputs": [
    {
     "data": {
      "text/plain": [
       "<matplotlib.legend.Legend at 0x7f1b00b5c130>"
      ]
     },
     "execution_count": 33,
     "metadata": {},
     "output_type": "execute_result"
    },
    {
     "data": {
      "image/png": "[encoded data removed]",
      "text/plain": [
       "<Figure size 576x432 with 1 Axes>"
      ]
     },
     "metadata": {
      "needs_background": "light"
     },
     "output_type": "display_data"
    }
   ],
   "source": [
    "# Plot R_0 for fingering convection\n",
    "R_0 = (Grad['g'] - grad_ad)/Grad_mu['g']\n",
    "\n",
    "plt.figure(figsize=(8,6))\n",
    "plt.plot(R, np.log10(R_0), label='log10(R_0)')\n",
    "plt.plot(R, 0*R , 'k-', label='Zero_line')\n",
    "#plt.ylim(-1.0, 1000.0)\n",
    "plt.legend()\n"
   ]
  },
  {
   "cell_type": "code",
   "execution_count": 34,
   "metadata": {},
   "outputs": [
    {
     "data": {
      "text/plain": [
       "<matplotlib.legend.Legend at 0x7f1b010464f0>"
      ]
     },
     "execution_count": 34,
     "metadata": {},
     "output_type": "execute_result"
    },
    {
     "data": {
      "image/png": "[encoded data removed]",
      "text/plain": [
       "<Figure size 576x432 with 1 Axes>"
      ]
     },
     "metadata": {
      "needs_background": "light"
     },
     "output_type": "display_data"
    }
   ],
   "source": [
    "# Profile of nu and Xi for Prandtl number\n",
    "c_gas=np.sqrt(8.32e7 * np.exp(lgt)*T_0 )\n",
    "cross_sect_H2=2e-15 #cgs H2 cross section\n",
    "lambda_mfp= 1./ (cross_sect_H2 * rho_gas['g'] / 2 / 1.67e-24)\n",
    "nu_visc= lambda_mfp * c_gas\n",
    "\n",
    "plt.figure(figsize=(8,6))\n",
    "plt.plot(R, np.log10(lambda_mfp), label='lambda_mfp')\n",
    "plt.plot(R, np.log10(c_gas), label='c_gas')\n",
    "\n",
    "#plt.ylim(-0.1, 0.1)\n",
    "plt.legend()       "
   ]
  },
  {
   "cell_type": "code",
   "execution_count": 35,
   "metadata": {},
   "outputs": [
    {
     "data": {
      "text/plain": [
       "<matplotlib.legend.Legend at 0x7f1b00b44490>"
      ]
     },
     "execution_count": 35,
     "metadata": {},
     "output_type": "execute_result"
    },
    {
     "data": {
      "image/png": "[encoded data removed]",
      "text/plain": [
       "<Figure size 576x432 with 1 Axes>"
      ]
     },
     "metadata": {
      "needs_background": "light"
     },
     "output_type": "display_data"
    }
   ],
   "source": [
    "gas_gamma=7./5.\n",
    "kappa_tot =  kappa.evaluate()\n",
    "kappa_tot.require_grid_space()\n",
    "#xi_rad= 16./3. * (gas_gamma-1)/gas_gamma * 5.670367e-5 * (np.exp(lgt['g'])*T_0)**4.  / rho_gas['g'] / np.exp(lgP['g']) \n",
    "xi_rad= 16./3. * (gas_gamma-1)/gas_gamma * 5.670367e-5 * (np.exp(lgt)*T_0)**4.  / rho_gas['g'] / kappa_tot['g']/ np.exp(lgP['g'])\n",
    "\n",
    "plt.figure(figsize=(8,6))\n",
    "plt.plot(R, np.log10(nu_visc), label='nu_visc')\n",
    "plt.plot(R, np.log10(xi_rad), label='xi_rad')\n",
    "\n",
    "plt.plot(R, np.log10(kappa_tot['g']), label='kappa_tot')\n",
    "\n",
    "plt.plot(R, np.log10((np.exp(lgt)*T_0)**4.), label='T^4')\n",
    "plt.plot(R, np.log10(rho_gas['g']), label='rho_gas')\n",
    "\n",
    "#plt.ylim(-0.1, 0.1)\n",
    "plt.legend()"
   ]
  },
  {
   "cell_type": "code",
   "execution_count": 36,
   "metadata": {},
   "outputs": [
    {
     "data": {
      "text/plain": [
       "<matplotlib.legend.Legend at 0x7f1b016dc1c0>"
      ]
     },
     "execution_count": 36,
     "metadata": {},
     "output_type": "execute_result"
    },
    {
     "data": {
      "image/png": "[encoded data removed]",
      "text/plain": [
       "<Figure size 576x432 with 1 Axes>"
      ]
     },
     "metadata": {
      "needs_background": "light"
     },
     "output_type": "display_data"
    }
   ],
   "source": [
    "# Profile of Prandtl number\n",
    "plt.figure(figsize=(8,6))\n",
    "plt.plot(R, np.log10(nu_visc/xi_rad), label='Prandtl number')\n",
    "#plt.plot(R, np.log10(xi_rad), label='xi_rad')\n",
    "\n",
    "#plt.ylim(-0.1, 0.1)\n",
    "plt.legend()"
   ]
  },
  {
   "cell_type": "code",
   "execution_count": 37,
   "metadata": {},
   "outputs": [
    {
     "data": {
      "text/plain": [
       "<matplotlib.legend.Legend at 0x7f1b00bce8b0>"
      ]
     },
     "execution_count": 37,
     "metadata": {},
     "output_type": "execute_result"
    },
    {
     "data": {
      "image/png": "[encoded data removed]",
      "text/plain": [
       "<Figure size 576x432 with 1 Axes>"
      ]
     },
     "metadata": {
      "needs_background": "light"
     },
     "output_type": "display_data"
    }
   ],
   "source": [
    "# Optical thickness to 'surface'\n",
    "tau_opt= 10.**R * rho_gas['g'] *kappa_tot['g'] # Approximation to true integral of rho.dz\n",
    "\n",
    "plt.figure(figsize=(8,6))\n",
    "plt.plot(R, np.log10(tau_opt), label='tau_opt')\n",
    "#plt.plot(R, np.log10(xi_rad), label='xi_rad')\n",
    "\n",
    "#plt.ylim(-0.1, 0.1)\n",
    "plt.legend()\n"
   ]
  },
  {
   "cell_type": "code",
   "execution_count": 38,
   "metadata": {},
   "outputs": [
    {
     "data": {
      "text/plain": [
       "<matplotlib.legend.Legend at 0x7f1b00ea0130>"
      ]
     },
     "execution_count": 38,
     "metadata": {},
     "output_type": "execute_result"
    },
    {
     "data": {
      "image/png": "[encoded data removed]",
      "text/plain": [
       "<Figure size 576x432 with 1 Axes>"
      ]
     },
     "metadata": {
      "needs_background": "light"
     },
     "output_type": "display_data"
    }
   ],
   "source": [
    "plt.figure(figsize=(8,6))\n",
    "plt.plot(R, Grad['g'] - Grad_mu['g'] - grad_ad, label='Ledoux')\n",
    "plt.plot(R, 0*R , label='Stability')\n",
    "plt.ylim(-4, 1)\n",
    "plt.legend()"
   ]
  },
  {
   "cell_type": "code",
   "execution_count": 39,
   "metadata": {
    "scrolled": false
   },
   "outputs": [],
   "source": [
    "\n",
    "\n",
    "# ##### Tao\n",
    "\n",
    "# #lgMu = np.log(1+np.exp(lgZgr))\n",
    "# lgMu =np.exp(lgZgr)\n",
    "# dlgMu = log_basis.Differentiate(lgMu)\n",
    "# dlgP = log_basis.Differentiate(np.log(np.exp(lgP) *P_0))\n",
    "\n",
    "# grad_mu = dlgMu/dlgP\n",
    "\n",
    "# # grad_mu1 = np.diff( np.log(1+np.exp(lgZgr['g'])))/ np.diff(np.log(np.exp(lgP['g']) *P_0)) \n",
    "# Grad_mu = grad_mu.evaluate()\n",
    "# Grad_mu.require_grid_space()\n",
    "\n",
    "# grad_diff = grad_rad - grad_mu - (-grad_ad) \n",
    "# Grad_diff = grad_diff.evaluate() \n",
    "# Grad_diff.require_grid_space() \n",
    "\n",
    "\n",
    "# plt.figure(figsize = (12,8))\n",
    "# plt.subplot(1,2,1)\n",
    "# # plt.plot(R, Grad_diff['g'])\n",
    "# # plt.plot(R,Grad_mu['g'])\n",
    "# #plt.plot(R, grad_rad['g'], label = 'Grad_rad')\n",
    "# plt.plot(R, grad_ad*np.ones(len(R)), label = 'Grad_ad')\n",
    "# plt.plot(R, Grad_mu['g'], label = 'Grad_mu')\n",
    "# plt.plot(R, Grad_diff['g'], label = 'Grad difference')\n",
    "# plt.plot(R, np.zeros(len(R)), 'k-') \n",
    "# plt.legend()\n",
    "# plt.ylim((-0.3, 0.4))\n",
    "# plt.subplot(1,2,2)\n",
    "# plt.plot(R, Grad_mu['g'], label = 'Grad_mu')\n",
    "# # plt.plot(R[1:], grad_mu1)\n",
    "# plt.legend()\n",
    "# plt.ylim((-0.1, 0.1))"
   ]
  },
  {
   "cell_type": "code",
   "execution_count": 40,
   "metadata": {},
   "outputs": [],
   "source": [
    "# New Stuff Sept 30 \n",
    "\n",
    "Cs = cg.evaluate() # sound speed, which we previously used \n",
    "Cs.require_grid_space()\n",
    "Cs = Cs['g']\n",
    "\n",
    "Nth = G**2/Cs**2*(grad_ad-(Grad_rad['g'])) # grad_rad is actually -Grad_rad\n",
    "d_finger= ((nu_visc* kappa_tot['g'])/Nth)**(1/4)\n",
    "tau_cool = d_finger/kappa_tot['g']**2\n",
    "\n",
    "Rgas = 8.32e7 / 2.3 # You gave me this value, but the wikipedia one in cgs doesnt have the /2.3 \n",
    "Sigma = 5.7e-5\n",
    "tau_cool_thin = Rgas/(16*kappa_tot['g']*Sigma*(np.exp(lgt)*T_0)**3)\n",
    "\n",
    "Prandtl = nu_visc/xi_rad # \n",
    "\n",
    "v_coll = d_finger/(np.sqrt(Prandtl)*tau_cool)"
   ]
  },
  {
   "cell_type": "code",
   "execution_count": 41,
   "metadata": {
    "scrolled": false
   },
   "outputs": [
    {
     "data": {
      "image/png": "[encoded data removed]",
      "text/plain": [
       "<Figure size 576x2880 with 5 Axes>"
      ]
     },
     "metadata": {
      "needs_background": "light"
     },
     "output_type": "display_data"
    }
   ],
   "source": [
    "plt.figure(figsize=(8,8*5))\n",
    "\n",
    "plt.subplot(5,1,1)\n",
    "plt.plot(R, Nth)\n",
    "plt.title('Nth')\n",
    "\n",
    "plt.subplot(5,1,2)\n",
    "plt.plot(R,d_finger)\n",
    "plt.title('d_finger')\n",
    "plt.yscale('log')\n",
    "\n",
    "plt.subplot(5,1,3)\n",
    "plt.plot(R,tau_cool)\n",
    "plt.title('tau_cool')\n",
    "plt.yscale('log')\n",
    "\n",
    "plt.subplot(5,1,4)\n",
    "plt.plot(R,tau_cool_thin)\n",
    "plt.title('tau_cool_thin')\n",
    "plt.yscale('log')\n",
    "\n",
    "plt.subplot(5,1,5)\n",
    "plt.plot(R,v_coll)\n",
    "plt.title('v_coll')\n",
    "plt.yscale('log')"
   ]
  },
  {
   "cell_type": "code",
   "execution_count": 42,
   "metadata": {},
   "outputs": [
    {
     "data": {
      "image/png": "[encoded data removed]",
      "text/plain": [
       "<Figure size 720x576 with 1 Axes>"
      ]
     },
     "metadata": {
      "needs_background": "light"
     },
     "output_type": "display_data"
    },
    {
     "name": "stdout",
     "output_type": "stream",
     "text": [
      "[nan nan nan nan nan nan nan nan nan nan nan nan nan nan nan nan nan nan\n",
      " nan nan nan nan nan nan nan nan nan nan nan nan nan nan nan nan nan nan\n",
      " nan nan nan nan nan nan nan nan nan nan nan nan nan nan nan nan nan nan\n",
      " nan nan nan nan nan nan nan nan nan nan nan nan nan nan nan nan nan nan\n",
      " nan nan nan nan nan nan nan nan nan nan nan nan nan nan nan nan nan nan\n",
      " nan nan nan nan nan nan nan nan nan nan nan nan nan nan nan nan nan nan\n",
      " nan nan nan nan nan nan nan nan nan nan nan nan nan nan nan nan nan nan\n",
      " nan nan nan nan nan nan nan nan nan nan nan nan nan nan nan nan nan nan\n",
      " nan nan nan nan nan nan nan nan nan nan nan nan nan nan nan nan nan nan\n",
      " nan nan nan nan nan nan nan nan nan nan nan nan nan nan nan nan nan nan\n",
      " nan nan nan nan nan nan nan nan nan nan nan nan nan nan nan nan nan nan\n",
      " nan nan nan nan nan nan nan nan nan nan nan nan nan nan nan nan nan nan\n",
      " nan nan nan nan nan nan nan nan nan nan nan nan nan nan nan nan nan nan\n",
      " nan nan nan nan nan nan nan nan nan nan nan nan nan nan nan nan nan nan\n",
      " nan nan nan nan]\n"
     ]
    }
   ],
   "source": [
    "plt.figure(figsize=(10,8))\n",
    "plt.plot(R,tau_cool, label='tau_cool')\n",
    "plt.plot(R, tau_cool_thin, label='tau_cool_thin')\n",
    "plt.yscale('log')\n",
    "plt.legend()\n",
    "plt.show()\n",
    "print(d_finger)"
   ]
  },
  {
   "cell_type": "code",
   "execution_count": 43,
   "metadata": {},
   "outputs": [],
   "source": [
    "np.savetxt(\"NPressure_dep.txt\", lgP_list[-1])\n",
    "np.savetxt(\"NTemperature_dep.txt\", lgT_list[-1])\n",
    "np.savetxt(\"NZgr_dep.txt\", lgZgr_list[-1])\n",
    "np.savetxt(\"NM_dep.txt\", lgM_list[-1])\n",
    "np.savetxt(\"Nm_dep.txt\",  m_list[-1])\n",
    "np.savetxt(\"NL_dep.txt\", L_list[-1])"
   ]
  },
  {
   "cell_type": "code",
   "execution_count": 44,
   "metadata": {},
   "outputs": [],
   "source": [
    "prefix = '1_1_'\n",
    "\n",
    "np.savetxt('saved/'+prefix+'Ngrad.txt', Grad['g'])\n",
    "np.savetxt('saved/'+prefix+'Ngrad_rad.txt', -Grad_rad['g'])\n",
    "np.savetxt('saved/'+prefix+'NTstop.txt', np.log10(TStop['g']))\n",
    "np.savetxt('saved/'+prefix+'NTgrow.txt', np.log10(TGrow['g']))\n",
    "np.savetxt('saved/'+prefix+'NTsettl.txt', Tsettl) \n",
    "np.savetxt('saved/'+prefix+'NZgr.txt', np.exp(lgZgr['g'])) \n",
    "np.savetxt('saved/'+prefix+'Nkappa_gr.txt', kappa_gr['g']) \n",
    "np.savetxt('saved/'+prefix+'Nsize.txt', size['g'])\n",
    "np.savetxt('saved/'+prefix+'Nrho_gas_cbrt.txt', (rho_gas['g'])**(1/3))\n",
    "np.savetxt('saved/'+prefix+'NTemperature.txt', np.exp(lgt)*T_0)\n",
    "np.savetxt('saved/'+prefix+'NPress.txt', np.exp(lgt)*T_0 *rho_gas['g'])\n",
    "np.savetxt('saved/'+prefix+'Nrho_gas_norm.txt', (rho_gas['g']/rhodisk)**(1/3))\n",
    "np.savetxt('saved/'+prefix+'NTemperature_norm.txt',np.exp(lgt)*T_0 / Tdisk)\n",
    "np.savetxt('saved/'+prefix+'NEnv.txt', Env)\n",
    "np.savetxt('saved/'+prefix+'Ngrad_mu.txt', Grad_mu['g'])\n",
    "np.savetxt('saved/'+prefix+'Ngrad_ad.txt', grad_ad*np.ones(len(R)))\n",
    "np.savetxt('saved/'+prefix+'Ngrad_diff.txt',  Grad_diff['g'])\n",
    "np.savetxt('saved/'+prefix+'Nlog10(R_0).txt',  np.log10(R_0))\n",
    "np.savetxt('saved/'+prefix+'Nlambda_mfp.txt',  np.log10(lambda_mfp))\n",
    "np.savetxt('saved/'+prefix+'Nc_gas.txt',  np.log10(c_gas))\n",
    "np.savetxt('saved/'+prefix+'Nnu_visc.txt',  np.log10(nu_visc))\n",
    "np.savetxt('saved/'+prefix+'Nxi_rad.txt',  np.log10(xi_rad))\n",
    "np.savetxt('saved/'+prefix+'Nkappa_tot.txt',  np.log10(kappa_tot['g']))\n",
    "np.savetxt('saved/'+prefix+'NTfourth.txt',  np.log10((np.exp(lgt)*T_0)**4.))\n",
    "np.savetxt('saved/'+prefix+'Nrho_gas.txt',  np.log10(rho_gas['g']))\n",
    "np.savetxt('saved/'+prefix+'NPrandtl_number.txt',  np.log10(nu_visc/xi_rad))\n",
    "np.savetxt('saved/'+prefix+'Ntau_opt.txt',  np.log10(tau_opt))\n",
    "np.savetxt('saved/'+prefix+'NLedoux.txt',  Grad['g'] - Grad_mu['g'] - grad_ad)\n",
    "np.savetxt('saved/'+prefix+'NR.txt', R)"
   ]
  },
  {
   "cell_type": "code",
   "execution_count": 45,
   "metadata": {
    "scrolled": false
   },
   "outputs": [],
   "source": [
    "np.savetxt('saved/NR.txt', R)"
   ]
  },
  {
   "cell_type": "code",
   "execution_count": null,
   "metadata": {},
   "outputs": [],
   "source": []
  },
  {
   "cell_type": "code",
   "execution_count": null,
   "metadata": {
    "scrolled": false
   },
   "outputs": [],
   "source": []
  },
  {
   "cell_type": "code",
   "execution_count": null,
   "metadata": {
    "scrolled": false
   },
   "outputs": [],
   "source": []
  },
  {
   "cell_type": "code",
   "execution_count": null,
   "metadata": {},
   "outputs": [],
   "source": []
  },
  {
   "cell_type": "code",
   "execution_count": null,
   "metadata": {},
   "outputs": [],
   "source": []
  },
  {
   "cell_type": "code",
   "execution_count": null,
   "metadata": {},
   "outputs": [],
   "source": []
  },
  {
   "cell_type": "code",
   "execution_count": null,
   "metadata": {},
   "outputs": [],
   "source": []
  },
  {
   "cell_type": "code",
   "execution_count": null,
   "metadata": {},
   "outputs": [],
   "source": []
  },
  {
   "cell_type": "code",
   "execution_count": null,
   "metadata": {},
   "outputs": [],
   "source": []
  }
 ],
 "metadata": {
  "kernelspec": {
   "display_name": "Python 3",
   "language": "python",
   "name": "python3"
  },
  "language_info": {
   "codemirror_mode": {
    "name": "ipython",
    "version": 3
   },
   "file_extension": ".py",
   "mimetype": "text/x-python",
   "name": "python",
   "nbconvert_exporter": "python",
   "pygments_lexer": "ipython3",
   "version": "3.8.2"
  }
 },
 "nbformat": 4,
 "nbformat_minor": 2
}
